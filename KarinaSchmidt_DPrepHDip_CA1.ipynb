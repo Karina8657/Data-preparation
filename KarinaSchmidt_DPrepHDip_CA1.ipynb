{
 "cells": [
  {
   "cell_type": "markdown",
   "id": "e0c90710",
   "metadata": {},
   "source": [
    "## Karina Fracieli Schmidt - 2023314\n",
    "\n",
    "CA1 - Data Preparation"
   ]
  },
  {
   "cell_type": "markdown",
   "id": "05c58b60",
   "metadata": {},
   "source": [
    "# PCA\n",
    "\n",
    "   PCA (Principal Component Analysis) serves as a vital data analysis technique in Python, facilitating dimensionality reduction, the detection of concealed patterns, exploratory data analysis, data preprocessing, and visualization in lower-dimensional spaces, aiding in the comprehension of variable relationships. Widely applied in data science and data analysis to tackle high-dimensional datasets, PCA simplifies intricate analyses and fosters an effective grasp of data structures (Kleindessner, 2023; Gilman, 2023). \n",
    "   \n",
    "  The two main ones being, reducing the dimensionality of the system models by reducing the number of variables involved. In complex systems with a large number of variables, this simplification is crucial, as it allows the creation of more concise models, which use fewer variables, for system simulation and analysis. For this, PCA is used to identify a subset of variables that is capable of representing the majority of the process data variability.\n",
    "  Identification of correlations between variables or groups of variables present in the data. This identification is based on the underlying structure of the covariance matrix, allowing the relationships between sets of variables to be recognized and interpreted. These analyzes often aim to reveal underlying processes in the structure of the data that may not be apparent during an initial analysis of correlations between pairs of variables (Avelino, 2019)"
   ]
  },
  {
   "cell_type": "markdown",
   "id": "24c2505f",
   "metadata": {},
   "source": [
    "## Reading data\n"
   ]
  },
  {
   "cell_type": "markdown",
   "id": "107d0272",
   "metadata": {},
   "source": [
    "To star the project, first starts with the codes below and are used to import and visualize data.\n",
    "Containing no executions yet."
   ]
  },
  {
   "cell_type": "code",
   "execution_count": 2,
   "id": "e21b0e42",
   "metadata": {},
   "outputs": [],
   "source": [
    "%matplotlib inline \n",
    "import numpy as np \n",
    "from sklearn.decomposition import PCA\n",
    "import seaborn as sns; \n",
    "import matplotlib.pyplot as plt\n",
    "import pandas as pd"
   ]
  },
  {
   "cell_type": "markdown",
   "id": "e4cc6c16",
   "metadata": {},
   "source": [
    "The next step was to read the CVS data file which is called \"aps_failure_set.csv\".\n",
    "Where the content of this file is stored in Data Frame (df)."
   ]
  },
  {
   "cell_type": "code",
   "execution_count": 3,
   "id": "947ff013",
   "metadata": {},
   "outputs": [],
   "source": [
    "df = pd.read_csv(\"aps_failure_set.csv\")"
   ]
  },
  {
   "cell_type": "markdown",
   "id": "22c5d856",
   "metadata": {},
   "source": [
    "The abbreviation for refers to the dataframe. This way you obtain more detailed information about columns and data types."
   ]
  },
  {
   "cell_type": "code",
   "execution_count": 4,
   "id": "2651b083",
   "metadata": {},
   "outputs": [
    {
     "name": "stdout",
     "output_type": "stream",
     "text": [
      "<class 'pandas.core.frame.DataFrame'>\n",
      "RangeIndex: 60000 entries, 0 to 59999\n",
      "Columns: 171 entries, class to eg_000\n",
      "dtypes: int64(1), object(170)\n",
      "memory usage: 78.3+ MB\n"
     ]
    }
   ],
   "source": [
    "df.info()"
   ]
  },
  {
   "cell_type": "raw",
   "id": "df215772",
   "metadata": {},
   "source": [
    "The following code will generate a statistical summary of the data frame. Calculating the count, mean, standard deviation, minimum, quartiles and maximum for each numeric column in the DataFrame. \n",
    "\n",
    "## Count shows the number of non-missing observations in the aa_000 column, which indicates 60,000 valid observations in that column.\n",
    "\n",
    "## The mean represents the average value of all numbers in the \"aa_000\" column, which is approximately 59,336.5. \n",
    "\n",
    "## Standard deviation (std) measures the spread of values in the \"aa_000\" column. The standard deviation is approximately 145,430.1, this indicates that the values are dispersed in relation to the mean. \n",
    "\n",
    "## The minimum value in the \"aa_000\" column. The minimum value is 0, so the lowest value that was found in this column was 0.\n",
    "\n",
    "## 25%: It shows that 25% are below and 75% are above. In this project, 25% is approximately 834.\n",
    "\n",
    "## 50%: The median is the middle value, which means half of the values are below and the other half are above. \n",
    "\n",
    "##75% : It is the value at which 75% of the data is below and 25% is above.\n",
    "\n",
    "## MAx: This is the maximum value, in this case is approximately 2,746,564.\n",
    "\n",
    " "
   ]
  },
  {
   "cell_type": "code",
   "execution_count": 5,
   "id": "5dd93d45",
   "metadata": {},
   "outputs": [
    {
     "data": {
      "text/html": [
       "<div>\n",
       "<style scoped>\n",
       "    .dataframe tbody tr th:only-of-type {\n",
       "        vertical-align: middle;\n",
       "    }\n",
       "\n",
       "    .dataframe tbody tr th {\n",
       "        vertical-align: top;\n",
       "    }\n",
       "\n",
       "    .dataframe thead th {\n",
       "        text-align: right;\n",
       "    }\n",
       "</style>\n",
       "<table border=\"1\" class=\"dataframe\">\n",
       "  <thead>\n",
       "    <tr style=\"text-align: right;\">\n",
       "      <th></th>\n",
       "      <th>aa_000</th>\n",
       "    </tr>\n",
       "  </thead>\n",
       "  <tbody>\n",
       "    <tr>\n",
       "      <th>count</th>\n",
       "      <td>6.000000e+04</td>\n",
       "    </tr>\n",
       "    <tr>\n",
       "      <th>mean</th>\n",
       "      <td>5.933650e+04</td>\n",
       "    </tr>\n",
       "    <tr>\n",
       "      <th>std</th>\n",
       "      <td>1.454301e+05</td>\n",
       "    </tr>\n",
       "    <tr>\n",
       "      <th>min</th>\n",
       "      <td>0.000000e+00</td>\n",
       "    </tr>\n",
       "    <tr>\n",
       "      <th>25%</th>\n",
       "      <td>8.340000e+02</td>\n",
       "    </tr>\n",
       "    <tr>\n",
       "      <th>50%</th>\n",
       "      <td>3.077600e+04</td>\n",
       "    </tr>\n",
       "    <tr>\n",
       "      <th>75%</th>\n",
       "      <td>4.866800e+04</td>\n",
       "    </tr>\n",
       "    <tr>\n",
       "      <th>max</th>\n",
       "      <td>2.746564e+06</td>\n",
       "    </tr>\n",
       "  </tbody>\n",
       "</table>\n",
       "</div>"
      ],
      "text/plain": [
       "             aa_000\n",
       "count  6.000000e+04\n",
       "mean   5.933650e+04\n",
       "std    1.454301e+05\n",
       "min    0.000000e+00\n",
       "25%    8.340000e+02\n",
       "50%    3.077600e+04\n",
       "75%    4.866800e+04\n",
       "max    2.746564e+06"
      ]
     },
     "execution_count": 5,
     "metadata": {},
     "output_type": "execute_result"
    }
   ],
   "source": [
    "df.describe()\n"
   ]
  },
  {
   "cell_type": "markdown",
   "id": "9795418a",
   "metadata": {},
   "source": [
    "The code below is used to count the number of null values in each column of the data frame. This way, we can know which columns we have have null data and how many of the null values there are in each column, thus applying some of the data analysis strategies.\n",
    "\n",
    "The output information is:\n",
    "\n",
    "Lenght in this case is 171 elements and each element represents 1 column, so we have 171 columns.\n",
    "The dtype information indicates the data type of the count values, which are 64-bit integers."
   ]
  },
  {
   "cell_type": "code",
   "execution_count": 6,
   "id": "8b0b8912",
   "metadata": {},
   "outputs": [
    {
     "data": {
      "text/plain": [
       "class     0\n",
       "aa_000    0\n",
       "ab_000    0\n",
       "ac_000    0\n",
       "ad_000    0\n",
       "         ..\n",
       "ee_007    0\n",
       "ee_008    0\n",
       "ee_009    0\n",
       "ef_000    0\n",
       "eg_000    0\n",
       "Length: 171, dtype: int64"
      ]
     },
     "execution_count": 6,
     "metadata": {},
     "output_type": "execute_result"
    }
   ],
   "source": [
    "df.isnull().sum()"
   ]
  },
  {
   "cell_type": "code",
   "execution_count": 7,
   "id": "b5dc4ee1",
   "metadata": {},
   "outputs": [
    {
     "data": {
      "text/html": [
       "<div>\n",
       "<style scoped>\n",
       "    .dataframe tbody tr th:only-of-type {\n",
       "        vertical-align: middle;\n",
       "    }\n",
       "\n",
       "    .dataframe tbody tr th {\n",
       "        vertical-align: top;\n",
       "    }\n",
       "\n",
       "    .dataframe thead th {\n",
       "        text-align: right;\n",
       "    }\n",
       "</style>\n",
       "<table border=\"1\" class=\"dataframe\">\n",
       "  <thead>\n",
       "    <tr style=\"text-align: right;\">\n",
       "      <th></th>\n",
       "      <th>class</th>\n",
       "      <th>aa_000</th>\n",
       "      <th>ab_000</th>\n",
       "      <th>ac_000</th>\n",
       "      <th>ad_000</th>\n",
       "      <th>ae_000</th>\n",
       "      <th>af_000</th>\n",
       "      <th>ag_000</th>\n",
       "      <th>ag_001</th>\n",
       "      <th>ag_002</th>\n",
       "      <th>...</th>\n",
       "      <th>ee_002</th>\n",
       "      <th>ee_003</th>\n",
       "      <th>ee_004</th>\n",
       "      <th>ee_005</th>\n",
       "      <th>ee_006</th>\n",
       "      <th>ee_007</th>\n",
       "      <th>ee_008</th>\n",
       "      <th>ee_009</th>\n",
       "      <th>ef_000</th>\n",
       "      <th>eg_000</th>\n",
       "    </tr>\n",
       "  </thead>\n",
       "  <tbody>\n",
       "    <tr>\n",
       "      <th>0</th>\n",
       "      <td>neg</td>\n",
       "      <td>76698</td>\n",
       "      <td>na</td>\n",
       "      <td>2130706438</td>\n",
       "      <td>280</td>\n",
       "      <td>0</td>\n",
       "      <td>0</td>\n",
       "      <td>0</td>\n",
       "      <td>0</td>\n",
       "      <td>0</td>\n",
       "      <td>...</td>\n",
       "      <td>1240520</td>\n",
       "      <td>493384</td>\n",
       "      <td>721044</td>\n",
       "      <td>469792</td>\n",
       "      <td>339156</td>\n",
       "      <td>157956</td>\n",
       "      <td>73224</td>\n",
       "      <td>0</td>\n",
       "      <td>0</td>\n",
       "      <td>0</td>\n",
       "    </tr>\n",
       "    <tr>\n",
       "      <th>1</th>\n",
       "      <td>neg</td>\n",
       "      <td>33058</td>\n",
       "      <td>na</td>\n",
       "      <td>0</td>\n",
       "      <td>na</td>\n",
       "      <td>0</td>\n",
       "      <td>0</td>\n",
       "      <td>0</td>\n",
       "      <td>0</td>\n",
       "      <td>0</td>\n",
       "      <td>...</td>\n",
       "      <td>421400</td>\n",
       "      <td>178064</td>\n",
       "      <td>293306</td>\n",
       "      <td>245416</td>\n",
       "      <td>133654</td>\n",
       "      <td>81140</td>\n",
       "      <td>97576</td>\n",
       "      <td>1500</td>\n",
       "      <td>0</td>\n",
       "      <td>0</td>\n",
       "    </tr>\n",
       "    <tr>\n",
       "      <th>2</th>\n",
       "      <td>neg</td>\n",
       "      <td>41040</td>\n",
       "      <td>na</td>\n",
       "      <td>228</td>\n",
       "      <td>100</td>\n",
       "      <td>0</td>\n",
       "      <td>0</td>\n",
       "      <td>0</td>\n",
       "      <td>0</td>\n",
       "      <td>0</td>\n",
       "      <td>...</td>\n",
       "      <td>277378</td>\n",
       "      <td>159812</td>\n",
       "      <td>423992</td>\n",
       "      <td>409564</td>\n",
       "      <td>320746</td>\n",
       "      <td>158022</td>\n",
       "      <td>95128</td>\n",
       "      <td>514</td>\n",
       "      <td>0</td>\n",
       "      <td>0</td>\n",
       "    </tr>\n",
       "    <tr>\n",
       "      <th>3</th>\n",
       "      <td>neg</td>\n",
       "      <td>12</td>\n",
       "      <td>0</td>\n",
       "      <td>70</td>\n",
       "      <td>66</td>\n",
       "      <td>0</td>\n",
       "      <td>10</td>\n",
       "      <td>0</td>\n",
       "      <td>0</td>\n",
       "      <td>0</td>\n",
       "      <td>...</td>\n",
       "      <td>240</td>\n",
       "      <td>46</td>\n",
       "      <td>58</td>\n",
       "      <td>44</td>\n",
       "      <td>10</td>\n",
       "      <td>0</td>\n",
       "      <td>0</td>\n",
       "      <td>0</td>\n",
       "      <td>4</td>\n",
       "      <td>32</td>\n",
       "    </tr>\n",
       "    <tr>\n",
       "      <th>4</th>\n",
       "      <td>neg</td>\n",
       "      <td>60874</td>\n",
       "      <td>na</td>\n",
       "      <td>1368</td>\n",
       "      <td>458</td>\n",
       "      <td>0</td>\n",
       "      <td>0</td>\n",
       "      <td>0</td>\n",
       "      <td>0</td>\n",
       "      <td>0</td>\n",
       "      <td>...</td>\n",
       "      <td>622012</td>\n",
       "      <td>229790</td>\n",
       "      <td>405298</td>\n",
       "      <td>347188</td>\n",
       "      <td>286954</td>\n",
       "      <td>311560</td>\n",
       "      <td>433954</td>\n",
       "      <td>1218</td>\n",
       "      <td>0</td>\n",
       "      <td>0</td>\n",
       "    </tr>\n",
       "  </tbody>\n",
       "</table>\n",
       "<p>5 rows × 171 columns</p>\n",
       "</div>"
      ],
      "text/plain": [
       "  class  aa_000 ab_000      ac_000 ad_000 ae_000 af_000 ag_000 ag_001 ag_002  \\\n",
       "0   neg   76698     na  2130706438    280      0      0      0      0      0   \n",
       "1   neg   33058     na           0     na      0      0      0      0      0   \n",
       "2   neg   41040     na         228    100      0      0      0      0      0   \n",
       "3   neg      12      0          70     66      0     10      0      0      0   \n",
       "4   neg   60874     na        1368    458      0      0      0      0      0   \n",
       "\n",
       "   ...   ee_002  ee_003  ee_004  ee_005  ee_006  ee_007  ee_008 ee_009 ef_000  \\\n",
       "0  ...  1240520  493384  721044  469792  339156  157956   73224      0      0   \n",
       "1  ...   421400  178064  293306  245416  133654   81140   97576   1500      0   \n",
       "2  ...   277378  159812  423992  409564  320746  158022   95128    514      0   \n",
       "3  ...      240      46      58      44      10       0       0      0      4   \n",
       "4  ...   622012  229790  405298  347188  286954  311560  433954   1218      0   \n",
       "\n",
       "  eg_000  \n",
       "0      0  \n",
       "1      0  \n",
       "2      0  \n",
       "3     32  \n",
       "4      0  \n",
       "\n",
       "[5 rows x 171 columns]"
      ]
     },
     "execution_count": 7,
     "metadata": {},
     "output_type": "execute_result"
    }
   ],
   "source": [
    "df.head()"
   ]
  },
  {
   "cell_type": "markdown",
   "id": "2e3a8c58",
   "metadata": {},
   "source": [
    "We can see from the table above that there were clearly missing values. In the present case, we employ the subsequent code to perform the conversion of this missing data, which is generally interpreted by pandas as NaN (not as a number). Therefore, we can now see it in the table below."
   ]
  },
  {
   "cell_type": "code",
   "execution_count": 8,
   "id": "902e7017",
   "metadata": {},
   "outputs": [],
   "source": [
    "import pandas as pd\n",
    "\n",
    "missing_value_formats = [\"n.a.\",\"?\",\"NA\",\"n/a\", \"na\", \"--\"]\n",
    "df = pd.read_csv(\"aps_failure_set.csv\", na_values = missing_value_formats)\n",
    "\n",
    "def make_int(i):\n",
    "    try:\n",
    "        return int(i)\n",
    "    except:\n",
    "        return pd.np.nan "
   ]
  },
  {
   "cell_type": "markdown",
   "id": "21c05531",
   "metadata": {},
   "source": [
    "So, after applying the code, it is now possible to see the missing values change to NaN."
   ]
  },
  {
   "cell_type": "code",
   "execution_count": 9,
   "id": "dbb5c520",
   "metadata": {
    "scrolled": true
   },
   "outputs": [
    {
     "data": {
      "text/html": [
       "<div>\n",
       "<style scoped>\n",
       "    .dataframe tbody tr th:only-of-type {\n",
       "        vertical-align: middle;\n",
       "    }\n",
       "\n",
       "    .dataframe tbody tr th {\n",
       "        vertical-align: top;\n",
       "    }\n",
       "\n",
       "    .dataframe thead th {\n",
       "        text-align: right;\n",
       "    }\n",
       "</style>\n",
       "<table border=\"1\" class=\"dataframe\">\n",
       "  <thead>\n",
       "    <tr style=\"text-align: right;\">\n",
       "      <th></th>\n",
       "      <th>class</th>\n",
       "      <th>aa_000</th>\n",
       "      <th>ab_000</th>\n",
       "      <th>ac_000</th>\n",
       "      <th>ad_000</th>\n",
       "      <th>ae_000</th>\n",
       "      <th>af_000</th>\n",
       "      <th>ag_000</th>\n",
       "      <th>ag_001</th>\n",
       "      <th>ag_002</th>\n",
       "      <th>...</th>\n",
       "      <th>ee_002</th>\n",
       "      <th>ee_003</th>\n",
       "      <th>ee_004</th>\n",
       "      <th>ee_005</th>\n",
       "      <th>ee_006</th>\n",
       "      <th>ee_007</th>\n",
       "      <th>ee_008</th>\n",
       "      <th>ee_009</th>\n",
       "      <th>ef_000</th>\n",
       "      <th>eg_000</th>\n",
       "    </tr>\n",
       "  </thead>\n",
       "  <tbody>\n",
       "    <tr>\n",
       "      <th>0</th>\n",
       "      <td>neg</td>\n",
       "      <td>76698</td>\n",
       "      <td>NaN</td>\n",
       "      <td>2.130706e+09</td>\n",
       "      <td>280.0</td>\n",
       "      <td>0.0</td>\n",
       "      <td>0.0</td>\n",
       "      <td>0.0</td>\n",
       "      <td>0.0</td>\n",
       "      <td>0.0</td>\n",
       "      <td>...</td>\n",
       "      <td>1240520.0</td>\n",
       "      <td>493384.0</td>\n",
       "      <td>721044.0</td>\n",
       "      <td>469792.0</td>\n",
       "      <td>339156.0</td>\n",
       "      <td>157956.0</td>\n",
       "      <td>73224.0</td>\n",
       "      <td>0.0</td>\n",
       "      <td>0.0</td>\n",
       "      <td>0.0</td>\n",
       "    </tr>\n",
       "    <tr>\n",
       "      <th>1</th>\n",
       "      <td>neg</td>\n",
       "      <td>33058</td>\n",
       "      <td>NaN</td>\n",
       "      <td>0.000000e+00</td>\n",
       "      <td>NaN</td>\n",
       "      <td>0.0</td>\n",
       "      <td>0.0</td>\n",
       "      <td>0.0</td>\n",
       "      <td>0.0</td>\n",
       "      <td>0.0</td>\n",
       "      <td>...</td>\n",
       "      <td>421400.0</td>\n",
       "      <td>178064.0</td>\n",
       "      <td>293306.0</td>\n",
       "      <td>245416.0</td>\n",
       "      <td>133654.0</td>\n",
       "      <td>81140.0</td>\n",
       "      <td>97576.0</td>\n",
       "      <td>1500.0</td>\n",
       "      <td>0.0</td>\n",
       "      <td>0.0</td>\n",
       "    </tr>\n",
       "    <tr>\n",
       "      <th>2</th>\n",
       "      <td>neg</td>\n",
       "      <td>41040</td>\n",
       "      <td>NaN</td>\n",
       "      <td>2.280000e+02</td>\n",
       "      <td>100.0</td>\n",
       "      <td>0.0</td>\n",
       "      <td>0.0</td>\n",
       "      <td>0.0</td>\n",
       "      <td>0.0</td>\n",
       "      <td>0.0</td>\n",
       "      <td>...</td>\n",
       "      <td>277378.0</td>\n",
       "      <td>159812.0</td>\n",
       "      <td>423992.0</td>\n",
       "      <td>409564.0</td>\n",
       "      <td>320746.0</td>\n",
       "      <td>158022.0</td>\n",
       "      <td>95128.0</td>\n",
       "      <td>514.0</td>\n",
       "      <td>0.0</td>\n",
       "      <td>0.0</td>\n",
       "    </tr>\n",
       "    <tr>\n",
       "      <th>3</th>\n",
       "      <td>neg</td>\n",
       "      <td>12</td>\n",
       "      <td>0.0</td>\n",
       "      <td>7.000000e+01</td>\n",
       "      <td>66.0</td>\n",
       "      <td>0.0</td>\n",
       "      <td>10.0</td>\n",
       "      <td>0.0</td>\n",
       "      <td>0.0</td>\n",
       "      <td>0.0</td>\n",
       "      <td>...</td>\n",
       "      <td>240.0</td>\n",
       "      <td>46.0</td>\n",
       "      <td>58.0</td>\n",
       "      <td>44.0</td>\n",
       "      <td>10.0</td>\n",
       "      <td>0.0</td>\n",
       "      <td>0.0</td>\n",
       "      <td>0.0</td>\n",
       "      <td>4.0</td>\n",
       "      <td>32.0</td>\n",
       "    </tr>\n",
       "    <tr>\n",
       "      <th>4</th>\n",
       "      <td>neg</td>\n",
       "      <td>60874</td>\n",
       "      <td>NaN</td>\n",
       "      <td>1.368000e+03</td>\n",
       "      <td>458.0</td>\n",
       "      <td>0.0</td>\n",
       "      <td>0.0</td>\n",
       "      <td>0.0</td>\n",
       "      <td>0.0</td>\n",
       "      <td>0.0</td>\n",
       "      <td>...</td>\n",
       "      <td>622012.0</td>\n",
       "      <td>229790.0</td>\n",
       "      <td>405298.0</td>\n",
       "      <td>347188.0</td>\n",
       "      <td>286954.0</td>\n",
       "      <td>311560.0</td>\n",
       "      <td>433954.0</td>\n",
       "      <td>1218.0</td>\n",
       "      <td>0.0</td>\n",
       "      <td>0.0</td>\n",
       "    </tr>\n",
       "  </tbody>\n",
       "</table>\n",
       "<p>5 rows × 171 columns</p>\n",
       "</div>"
      ],
      "text/plain": [
       "  class  aa_000  ab_000        ac_000  ad_000  ae_000  af_000  ag_000  ag_001  \\\n",
       "0   neg   76698     NaN  2.130706e+09   280.0     0.0     0.0     0.0     0.0   \n",
       "1   neg   33058     NaN  0.000000e+00     NaN     0.0     0.0     0.0     0.0   \n",
       "2   neg   41040     NaN  2.280000e+02   100.0     0.0     0.0     0.0     0.0   \n",
       "3   neg      12     0.0  7.000000e+01    66.0     0.0    10.0     0.0     0.0   \n",
       "4   neg   60874     NaN  1.368000e+03   458.0     0.0     0.0     0.0     0.0   \n",
       "\n",
       "   ag_002  ...     ee_002    ee_003    ee_004    ee_005    ee_006    ee_007  \\\n",
       "0     0.0  ...  1240520.0  493384.0  721044.0  469792.0  339156.0  157956.0   \n",
       "1     0.0  ...   421400.0  178064.0  293306.0  245416.0  133654.0   81140.0   \n",
       "2     0.0  ...   277378.0  159812.0  423992.0  409564.0  320746.0  158022.0   \n",
       "3     0.0  ...      240.0      46.0      58.0      44.0      10.0       0.0   \n",
       "4     0.0  ...   622012.0  229790.0  405298.0  347188.0  286954.0  311560.0   \n",
       "\n",
       "     ee_008  ee_009  ef_000  eg_000  \n",
       "0   73224.0     0.0     0.0     0.0  \n",
       "1   97576.0  1500.0     0.0     0.0  \n",
       "2   95128.0   514.0     0.0     0.0  \n",
       "3       0.0     0.0     4.0    32.0  \n",
       "4  433954.0  1218.0     0.0     0.0  \n",
       "\n",
       "[5 rows x 171 columns]"
      ]
     },
     "execution_count": 9,
     "metadata": {},
     "output_type": "execute_result"
    }
   ],
   "source": [
    "df.head()"
   ]
  },
  {
   "cell_type": "markdown",
   "id": "7aed0433",
   "metadata": {},
   "source": [
    "To handle missing values, the code below will transform these values from NaN to 0 in the data frame in question. Modifications are made to the pre-existing data frame, without creating a new data frame."
   ]
  },
  {
   "cell_type": "code",
   "execution_count": 10,
   "id": "ffb783f9",
   "metadata": {},
   "outputs": [],
   "source": [
    "df.fillna(0,inplace=True)"
   ]
  },
  {
   "cell_type": "markdown",
   "id": "13961a5a",
   "metadata": {},
   "source": [
    "After applying the code, you will notice the substitution of zero where no data is missing."
   ]
  },
  {
   "cell_type": "code",
   "execution_count": 11,
   "id": "ccc0b5a4",
   "metadata": {
    "scrolled": true
   },
   "outputs": [
    {
     "data": {
      "text/html": [
       "<div>\n",
       "<style scoped>\n",
       "    .dataframe tbody tr th:only-of-type {\n",
       "        vertical-align: middle;\n",
       "    }\n",
       "\n",
       "    .dataframe tbody tr th {\n",
       "        vertical-align: top;\n",
       "    }\n",
       "\n",
       "    .dataframe thead th {\n",
       "        text-align: right;\n",
       "    }\n",
       "</style>\n",
       "<table border=\"1\" class=\"dataframe\">\n",
       "  <thead>\n",
       "    <tr style=\"text-align: right;\">\n",
       "      <th></th>\n",
       "      <th>class</th>\n",
       "      <th>aa_000</th>\n",
       "      <th>ab_000</th>\n",
       "      <th>ac_000</th>\n",
       "      <th>ad_000</th>\n",
       "      <th>ae_000</th>\n",
       "      <th>af_000</th>\n",
       "      <th>ag_000</th>\n",
       "      <th>ag_001</th>\n",
       "      <th>ag_002</th>\n",
       "      <th>...</th>\n",
       "      <th>ee_002</th>\n",
       "      <th>ee_003</th>\n",
       "      <th>ee_004</th>\n",
       "      <th>ee_005</th>\n",
       "      <th>ee_006</th>\n",
       "      <th>ee_007</th>\n",
       "      <th>ee_008</th>\n",
       "      <th>ee_009</th>\n",
       "      <th>ef_000</th>\n",
       "      <th>eg_000</th>\n",
       "    </tr>\n",
       "  </thead>\n",
       "  <tbody>\n",
       "    <tr>\n",
       "      <th>0</th>\n",
       "      <td>neg</td>\n",
       "      <td>76698</td>\n",
       "      <td>0.0</td>\n",
       "      <td>2.130706e+09</td>\n",
       "      <td>280.0</td>\n",
       "      <td>0.0</td>\n",
       "      <td>0.0</td>\n",
       "      <td>0.0</td>\n",
       "      <td>0.0</td>\n",
       "      <td>0.0</td>\n",
       "      <td>...</td>\n",
       "      <td>1240520.0</td>\n",
       "      <td>493384.0</td>\n",
       "      <td>721044.0</td>\n",
       "      <td>469792.0</td>\n",
       "      <td>339156.0</td>\n",
       "      <td>157956.0</td>\n",
       "      <td>73224.0</td>\n",
       "      <td>0.0</td>\n",
       "      <td>0.0</td>\n",
       "      <td>0.0</td>\n",
       "    </tr>\n",
       "    <tr>\n",
       "      <th>1</th>\n",
       "      <td>neg</td>\n",
       "      <td>33058</td>\n",
       "      <td>0.0</td>\n",
       "      <td>0.000000e+00</td>\n",
       "      <td>0.0</td>\n",
       "      <td>0.0</td>\n",
       "      <td>0.0</td>\n",
       "      <td>0.0</td>\n",
       "      <td>0.0</td>\n",
       "      <td>0.0</td>\n",
       "      <td>...</td>\n",
       "      <td>421400.0</td>\n",
       "      <td>178064.0</td>\n",
       "      <td>293306.0</td>\n",
       "      <td>245416.0</td>\n",
       "      <td>133654.0</td>\n",
       "      <td>81140.0</td>\n",
       "      <td>97576.0</td>\n",
       "      <td>1500.0</td>\n",
       "      <td>0.0</td>\n",
       "      <td>0.0</td>\n",
       "    </tr>\n",
       "    <tr>\n",
       "      <th>2</th>\n",
       "      <td>neg</td>\n",
       "      <td>41040</td>\n",
       "      <td>0.0</td>\n",
       "      <td>2.280000e+02</td>\n",
       "      <td>100.0</td>\n",
       "      <td>0.0</td>\n",
       "      <td>0.0</td>\n",
       "      <td>0.0</td>\n",
       "      <td>0.0</td>\n",
       "      <td>0.0</td>\n",
       "      <td>...</td>\n",
       "      <td>277378.0</td>\n",
       "      <td>159812.0</td>\n",
       "      <td>423992.0</td>\n",
       "      <td>409564.0</td>\n",
       "      <td>320746.0</td>\n",
       "      <td>158022.0</td>\n",
       "      <td>95128.0</td>\n",
       "      <td>514.0</td>\n",
       "      <td>0.0</td>\n",
       "      <td>0.0</td>\n",
       "    </tr>\n",
       "    <tr>\n",
       "      <th>3</th>\n",
       "      <td>neg</td>\n",
       "      <td>12</td>\n",
       "      <td>0.0</td>\n",
       "      <td>7.000000e+01</td>\n",
       "      <td>66.0</td>\n",
       "      <td>0.0</td>\n",
       "      <td>10.0</td>\n",
       "      <td>0.0</td>\n",
       "      <td>0.0</td>\n",
       "      <td>0.0</td>\n",
       "      <td>...</td>\n",
       "      <td>240.0</td>\n",
       "      <td>46.0</td>\n",
       "      <td>58.0</td>\n",
       "      <td>44.0</td>\n",
       "      <td>10.0</td>\n",
       "      <td>0.0</td>\n",
       "      <td>0.0</td>\n",
       "      <td>0.0</td>\n",
       "      <td>4.0</td>\n",
       "      <td>32.0</td>\n",
       "    </tr>\n",
       "    <tr>\n",
       "      <th>4</th>\n",
       "      <td>neg</td>\n",
       "      <td>60874</td>\n",
       "      <td>0.0</td>\n",
       "      <td>1.368000e+03</td>\n",
       "      <td>458.0</td>\n",
       "      <td>0.0</td>\n",
       "      <td>0.0</td>\n",
       "      <td>0.0</td>\n",
       "      <td>0.0</td>\n",
       "      <td>0.0</td>\n",
       "      <td>...</td>\n",
       "      <td>622012.0</td>\n",
       "      <td>229790.0</td>\n",
       "      <td>405298.0</td>\n",
       "      <td>347188.0</td>\n",
       "      <td>286954.0</td>\n",
       "      <td>311560.0</td>\n",
       "      <td>433954.0</td>\n",
       "      <td>1218.0</td>\n",
       "      <td>0.0</td>\n",
       "      <td>0.0</td>\n",
       "    </tr>\n",
       "  </tbody>\n",
       "</table>\n",
       "<p>5 rows × 171 columns</p>\n",
       "</div>"
      ],
      "text/plain": [
       "  class  aa_000  ab_000        ac_000  ad_000  ae_000  af_000  ag_000  ag_001  \\\n",
       "0   neg   76698     0.0  2.130706e+09   280.0     0.0     0.0     0.0     0.0   \n",
       "1   neg   33058     0.0  0.000000e+00     0.0     0.0     0.0     0.0     0.0   \n",
       "2   neg   41040     0.0  2.280000e+02   100.0     0.0     0.0     0.0     0.0   \n",
       "3   neg      12     0.0  7.000000e+01    66.0     0.0    10.0     0.0     0.0   \n",
       "4   neg   60874     0.0  1.368000e+03   458.0     0.0     0.0     0.0     0.0   \n",
       "\n",
       "   ag_002  ...     ee_002    ee_003    ee_004    ee_005    ee_006    ee_007  \\\n",
       "0     0.0  ...  1240520.0  493384.0  721044.0  469792.0  339156.0  157956.0   \n",
       "1     0.0  ...   421400.0  178064.0  293306.0  245416.0  133654.0   81140.0   \n",
       "2     0.0  ...   277378.0  159812.0  423992.0  409564.0  320746.0  158022.0   \n",
       "3     0.0  ...      240.0      46.0      58.0      44.0      10.0       0.0   \n",
       "4     0.0  ...   622012.0  229790.0  405298.0  347188.0  286954.0  311560.0   \n",
       "\n",
       "     ee_008  ee_009  ef_000  eg_000  \n",
       "0   73224.0     0.0     0.0     0.0  \n",
       "1   97576.0  1500.0     0.0     0.0  \n",
       "2   95128.0   514.0     0.0     0.0  \n",
       "3       0.0     0.0     4.0    32.0  \n",
       "4  433954.0  1218.0     0.0     0.0  \n",
       "\n",
       "[5 rows x 171 columns]"
      ]
     },
     "execution_count": 11,
     "metadata": {},
     "output_type": "execute_result"
    }
   ],
   "source": [
    "df.head()"
   ]
  },
  {
   "cell_type": "markdown",
   "id": "31db81e6",
   "metadata": {},
   "source": [
    "The following code is used to apply Principal Component Analysis (PCA) to a Data Frame.\n",
    "From the generated graph, it will be possible to view the cumulative variance. With this information, it will be possible to make a decision on how many components will be needed to maintain data variation.\n"
   ]
  },
  {
   "cell_type": "code",
   "execution_count": 28,
   "id": "6b4d3d6c",
   "metadata": {
    "scrolled": false
   },
   "outputs": [
    {
     "data": {
      "image/png": "[encoded data removed]",
      "text/plain": [
       "<Figure size 640x480 with 1 Axes>"
      ]
     },
     "metadata": {},
     "output_type": "display_data"
    }
   ],
   "source": [
    "failure_no_label = df.drop(columns=[\"class\"]) \n",
    "pca = PCA().fit(failure_no_label) \n",
    "plt.plot(np.cumsum(pca.explained_variance_ratio_)) \n",
    "plt.xlabel('number of components') \n",
    "plt.ylabel('cumulative explained variance');"
   ]
  },
  {
   "cell_type": "markdown",
   "id": "95d3c6f4",
   "metadata": {},
   "source": [
    "By looking at the Cumulative Explained Variance graph above, we can determine the required number of principal components to maintain the variance. When the curve remains constant, it is possible to maintain a sufficient number of principal components to retain a high percentage of the total variance. This results in a more compact and informative representation of the data while reducing dimensionality. In the present scenario, 10 main components were used. It is noted that, even with the discarding of several components, it was possible to preserve a variance of at least 95%.\n"
   ]
  },
  {
   "cell_type": "markdown",
   "id": "c142a46f",
   "metadata": {},
   "source": [
    "The next step consists of applying PCA, which will reduce the existing data set, while maintaining its variation. Now, the data frame has only 10 components after a reduction of 171. This way, the data that will be analyzed is simplified."
   ]
  },
  {
   "cell_type": "code",
   "execution_count": 29,
   "id": "d1d4e55a",
   "metadata": {},
   "outputs": [],
   "source": [
    "pca = PCA(10)\n",
    "projected = pca.fit_transform(failure_no_label)"
   ]
  },
  {
   "cell_type": "markdown",
   "id": "f6186a70",
   "metadata": {},
   "source": [
    "Below, we have the new number of rows and columns, after applying PCA."
   ]
  },
  {
   "cell_type": "code",
   "execution_count": 14,
   "id": "08545d64",
   "metadata": {},
   "outputs": [
    {
     "data": {
      "text/plain": [
       "(60000, 10)"
      ]
     },
     "execution_count": 14,
     "metadata": {},
     "output_type": "execute_result"
    }
   ],
   "source": [
    "projected.shape"
   ]
  },
  {
   "cell_type": "markdown",
   "id": "485a45f6",
   "metadata": {},
   "source": [
    "Now, it is possible to create a new data frame with the name newfailure. Additionally, we have the new names for the columns that were created and renamed as C1, C2, C3, C4, C5, C6, C7, C8, C9 and C10."
   ]
  },
  {
   "cell_type": "code",
   "execution_count": 15,
   "id": "b7477580",
   "metadata": {},
   "outputs": [],
   "source": [
    "newfailure_df = pd.DataFrame(projected, columns =['C1', 'C2', 'C3', 'C4','C5', 'C6', 'C7', 'C8', 'C9','C10'])"
   ]
  },
  {
   "cell_type": "code",
   "execution_count": 16,
   "id": "9a2a680f",
   "metadata": {
    "scrolled": true
   },
   "outputs": [
    {
     "data": {
      "text/html": [
       "<div>\n",
       "<style scoped>\n",
       "    .dataframe tbody tr th:only-of-type {\n",
       "        vertical-align: middle;\n",
       "    }\n",
       "\n",
       "    .dataframe tbody tr th {\n",
       "        vertical-align: top;\n",
       "    }\n",
       "\n",
       "    .dataframe thead th {\n",
       "        text-align: right;\n",
       "    }\n",
       "</style>\n",
       "<table border=\"1\" class=\"dataframe\">\n",
       "  <thead>\n",
       "    <tr style=\"text-align: right;\">\n",
       "      <th></th>\n",
       "      <th>C1</th>\n",
       "      <th>C2</th>\n",
       "      <th>C3</th>\n",
       "      <th>C4</th>\n",
       "      <th>C5</th>\n",
       "      <th>C6</th>\n",
       "      <th>C7</th>\n",
       "      <th>C8</th>\n",
       "      <th>C9</th>\n",
       "      <th>C10</th>\n",
       "    </tr>\n",
       "  </thead>\n",
       "  <tbody>\n",
       "    <tr>\n",
       "      <th>0</th>\n",
       "      <td>1.794496e+09</td>\n",
       "      <td>3.211523e+05</td>\n",
       "      <td>-13914.100755</td>\n",
       "      <td>3.221798e+06</td>\n",
       "      <td>1.246086e+07</td>\n",
       "      <td>5.302119e+06</td>\n",
       "      <td>-3.443515e+05</td>\n",
       "      <td>9.257055e+04</td>\n",
       "      <td>-1.213335e+06</td>\n",
       "      <td>2.904779e+06</td>\n",
       "    </tr>\n",
       "    <tr>\n",
       "      <th>1</th>\n",
       "      <td>-3.361937e+08</td>\n",
       "      <td>-5.375804e+06</td>\n",
       "      <td>-284084.983413</td>\n",
       "      <td>-6.810371e+06</td>\n",
       "      <td>-1.193847e+05</td>\n",
       "      <td>2.457512e+06</td>\n",
       "      <td>-2.267203e+05</td>\n",
       "      <td>-1.313286e+06</td>\n",
       "      <td>1.005464e+06</td>\n",
       "      <td>-8.059593e+05</td>\n",
       "    </tr>\n",
       "    <tr>\n",
       "      <th>2</th>\n",
       "      <td>-3.361927e+08</td>\n",
       "      <td>-5.608250e+06</td>\n",
       "      <td>-277150.003557</td>\n",
       "      <td>-1.020018e+07</td>\n",
       "      <td>-1.375904e+06</td>\n",
       "      <td>-1.456393e+06</td>\n",
       "      <td>8.431763e+05</td>\n",
       "      <td>1.618961e+05</td>\n",
       "      <td>-1.477105e+06</td>\n",
       "      <td>6.712679e+05</td>\n",
       "    </tr>\n",
       "    <tr>\n",
       "      <th>3</th>\n",
       "      <td>-3.361710e+08</td>\n",
       "      <td>-6.252036e+06</td>\n",
       "      <td>-263685.285444</td>\n",
       "      <td>-1.471480e+07</td>\n",
       "      <td>-8.833286e+06</td>\n",
       "      <td>-7.683078e+05</td>\n",
       "      <td>2.695536e+05</td>\n",
       "      <td>-2.691088e+05</td>\n",
       "      <td>5.879196e+05</td>\n",
       "      <td>-1.123004e+06</td>\n",
       "    </tr>\n",
       "    <tr>\n",
       "      <th>4</th>\n",
       "      <td>-3.362444e+08</td>\n",
       "      <td>-4.891118e+06</td>\n",
       "      <td>-310272.149219</td>\n",
       "      <td>1.014545e+07</td>\n",
       "      <td>-5.099864e+06</td>\n",
       "      <td>-2.738365e+06</td>\n",
       "      <td>1.926148e+06</td>\n",
       "      <td>7.931166e+05</td>\n",
       "      <td>-6.081122e+04</td>\n",
       "      <td>1.631404e+06</td>\n",
       "    </tr>\n",
       "  </tbody>\n",
       "</table>\n",
       "</div>"
      ],
      "text/plain": [
       "             C1            C2             C3            C4            C5  \\\n",
       "0  1.794496e+09  3.211523e+05  -13914.100755  3.221798e+06  1.246086e+07   \n",
       "1 -3.361937e+08 -5.375804e+06 -284084.983413 -6.810371e+06 -1.193847e+05   \n",
       "2 -3.361927e+08 -5.608250e+06 -277150.003557 -1.020018e+07 -1.375904e+06   \n",
       "3 -3.361710e+08 -6.252036e+06 -263685.285444 -1.471480e+07 -8.833286e+06   \n",
       "4 -3.362444e+08 -4.891118e+06 -310272.149219  1.014545e+07 -5.099864e+06   \n",
       "\n",
       "             C6            C7            C8            C9           C10  \n",
       "0  5.302119e+06 -3.443515e+05  9.257055e+04 -1.213335e+06  2.904779e+06  \n",
       "1  2.457512e+06 -2.267203e+05 -1.313286e+06  1.005464e+06 -8.059593e+05  \n",
       "2 -1.456393e+06  8.431763e+05  1.618961e+05 -1.477105e+06  6.712679e+05  \n",
       "3 -7.683078e+05  2.695536e+05 -2.691088e+05  5.879196e+05 -1.123004e+06  \n",
       "4 -2.738365e+06  1.926148e+06  7.931166e+05 -6.081122e+04  1.631404e+06  "
      ]
     },
     "execution_count": 16,
     "metadata": {},
     "output_type": "execute_result"
    }
   ],
   "source": [
    "newfailure_df.head()"
   ]
  },
  {
   "cell_type": "markdown",
   "id": "c956ba27",
   "metadata": {},
   "source": [
    "Just copying the class column to the new data frame, as we can see the \"class\" column at the end of the table."
   ]
  },
  {
   "cell_type": "code",
   "execution_count": 17,
   "id": "6059be96",
   "metadata": {},
   "outputs": [],
   "source": [
    "newfailure_df[\"class\"] = df[\"class\"]"
   ]
  },
  {
   "cell_type": "code",
   "execution_count": 18,
   "id": "d72b3d02",
   "metadata": {},
   "outputs": [
    {
     "data": {
      "text/html": [
       "<div>\n",
       "<style scoped>\n",
       "    .dataframe tbody tr th:only-of-type {\n",
       "        vertical-align: middle;\n",
       "    }\n",
       "\n",
       "    .dataframe tbody tr th {\n",
       "        vertical-align: top;\n",
       "    }\n",
       "\n",
       "    .dataframe thead th {\n",
       "        text-align: right;\n",
       "    }\n",
       "</style>\n",
       "<table border=\"1\" class=\"dataframe\">\n",
       "  <thead>\n",
       "    <tr style=\"text-align: right;\">\n",
       "      <th></th>\n",
       "      <th>C1</th>\n",
       "      <th>C2</th>\n",
       "      <th>C3</th>\n",
       "      <th>C4</th>\n",
       "      <th>C5</th>\n",
       "      <th>C6</th>\n",
       "      <th>C7</th>\n",
       "      <th>C8</th>\n",
       "      <th>C9</th>\n",
       "      <th>C10</th>\n",
       "      <th>class</th>\n",
       "    </tr>\n",
       "  </thead>\n",
       "  <tbody>\n",
       "    <tr>\n",
       "      <th>0</th>\n",
       "      <td>1.794496e+09</td>\n",
       "      <td>3.211523e+05</td>\n",
       "      <td>-13914.100755</td>\n",
       "      <td>3.221798e+06</td>\n",
       "      <td>1.246086e+07</td>\n",
       "      <td>5.302119e+06</td>\n",
       "      <td>-3.443515e+05</td>\n",
       "      <td>9.257055e+04</td>\n",
       "      <td>-1.213335e+06</td>\n",
       "      <td>2.904779e+06</td>\n",
       "      <td>neg</td>\n",
       "    </tr>\n",
       "    <tr>\n",
       "      <th>1</th>\n",
       "      <td>-3.361937e+08</td>\n",
       "      <td>-5.375804e+06</td>\n",
       "      <td>-284084.983413</td>\n",
       "      <td>-6.810371e+06</td>\n",
       "      <td>-1.193847e+05</td>\n",
       "      <td>2.457512e+06</td>\n",
       "      <td>-2.267203e+05</td>\n",
       "      <td>-1.313286e+06</td>\n",
       "      <td>1.005464e+06</td>\n",
       "      <td>-8.059593e+05</td>\n",
       "      <td>neg</td>\n",
       "    </tr>\n",
       "    <tr>\n",
       "      <th>2</th>\n",
       "      <td>-3.361927e+08</td>\n",
       "      <td>-5.608250e+06</td>\n",
       "      <td>-277150.003557</td>\n",
       "      <td>-1.020018e+07</td>\n",
       "      <td>-1.375904e+06</td>\n",
       "      <td>-1.456393e+06</td>\n",
       "      <td>8.431763e+05</td>\n",
       "      <td>1.618961e+05</td>\n",
       "      <td>-1.477105e+06</td>\n",
       "      <td>6.712679e+05</td>\n",
       "      <td>neg</td>\n",
       "    </tr>\n",
       "    <tr>\n",
       "      <th>3</th>\n",
       "      <td>-3.361710e+08</td>\n",
       "      <td>-6.252036e+06</td>\n",
       "      <td>-263685.285444</td>\n",
       "      <td>-1.471480e+07</td>\n",
       "      <td>-8.833286e+06</td>\n",
       "      <td>-7.683078e+05</td>\n",
       "      <td>2.695536e+05</td>\n",
       "      <td>-2.691088e+05</td>\n",
       "      <td>5.879196e+05</td>\n",
       "      <td>-1.123004e+06</td>\n",
       "      <td>neg</td>\n",
       "    </tr>\n",
       "    <tr>\n",
       "      <th>4</th>\n",
       "      <td>-3.362444e+08</td>\n",
       "      <td>-4.891118e+06</td>\n",
       "      <td>-310272.149219</td>\n",
       "      <td>1.014545e+07</td>\n",
       "      <td>-5.099864e+06</td>\n",
       "      <td>-2.738365e+06</td>\n",
       "      <td>1.926148e+06</td>\n",
       "      <td>7.931166e+05</td>\n",
       "      <td>-6.081122e+04</td>\n",
       "      <td>1.631404e+06</td>\n",
       "      <td>neg</td>\n",
       "    </tr>\n",
       "  </tbody>\n",
       "</table>\n",
       "</div>"
      ],
      "text/plain": [
       "             C1            C2             C3            C4            C5  \\\n",
       "0  1.794496e+09  3.211523e+05  -13914.100755  3.221798e+06  1.246086e+07   \n",
       "1 -3.361937e+08 -5.375804e+06 -284084.983413 -6.810371e+06 -1.193847e+05   \n",
       "2 -3.361927e+08 -5.608250e+06 -277150.003557 -1.020018e+07 -1.375904e+06   \n",
       "3 -3.361710e+08 -6.252036e+06 -263685.285444 -1.471480e+07 -8.833286e+06   \n",
       "4 -3.362444e+08 -4.891118e+06 -310272.149219  1.014545e+07 -5.099864e+06   \n",
       "\n",
       "             C6            C7            C8            C9           C10 class  \n",
       "0  5.302119e+06 -3.443515e+05  9.257055e+04 -1.213335e+06  2.904779e+06   neg  \n",
       "1  2.457512e+06 -2.267203e+05 -1.313286e+06  1.005464e+06 -8.059593e+05   neg  \n",
       "2 -1.456393e+06  8.431763e+05  1.618961e+05 -1.477105e+06  6.712679e+05   neg  \n",
       "3 -7.683078e+05  2.695536e+05 -2.691088e+05  5.879196e+05 -1.123004e+06   neg  \n",
       "4 -2.738365e+06  1.926148e+06  7.931166e+05 -6.081122e+04  1.631404e+06   neg  "
      ]
     },
     "execution_count": 18,
     "metadata": {},
     "output_type": "execute_result"
    }
   ],
   "source": [
    "newfailure_df.head() "
   ]
  },
  {
   "cell_type": "markdown",
   "id": "8b1a5efd",
   "metadata": {},
   "source": [
    "The array is a compound variable that allows us to work with storing multiple values.\n",
    "It is being created to store the data frame values."
   ]
  },
  {
   "cell_type": "code",
   "execution_count": 19,
   "id": "acf4d40c",
   "metadata": {},
   "outputs": [],
   "source": [
    "df_array=newfailure_df.values "
   ]
  },
  {
   "cell_type": "markdown",
   "id": "08cb0eaa",
   "metadata": {},
   "source": [
    "The following codes aim to divide a dataset into two distinct parts: a training set and a validation set. To perform this division, they use the train_test_split function. Data set attributes are stored in X and labels are stored in y. Then they are separated into groups. This set aims to evaluate the performance of machine learning models when testing them with unknown data, making it possible to analyze their performance in these circumstances.\n",
    "To ensure that there is a validation data set, we will reserve 20% of the data with the code test_size=0.20, while the remaining 80% will be used for training."
   ]
  },
  {
   "cell_type": "code",
   "execution_count": 20,
   "id": "f4b010ef",
   "metadata": {},
   "outputs": [],
   "source": [
    "from sklearn.model_selection import train_test_split\n",
    "X = df_array[:,0:10]\n",
    "y = df_array[:,10]\n",
    "X_train, X_validation, Y_train, Y_validation = train_test_split(X, y, test_size=0.20, random_state=1)"
   ]
  },
  {
   "cell_type": "markdown",
   "id": "cdd3b12b",
   "metadata": {},
   "source": [
    "O sklearn é um biblioteca de códigos bastante utilizada em Python, entre suas funções análise de dados.\n",
    "Foi realizada a diferentes importações para o uso de diferentes funções de machine learn. \n",
    "Dessa forma, criando e deselvolvendo resultados nos códigos Python.\n",
    "\n",
    "\n",
    "\n",
    "\n"
   ]
  },
  {
   "cell_type": "code",
   "execution_count": 21,
   "id": "08d74344",
   "metadata": {},
   "outputs": [],
   "source": [
    "from matplotlib import pyplot\n",
    "from sklearn.model_selection import train_test_split\n",
    "from sklearn.model_selection import cross_val_score\n",
    "from sklearn.model_selection import StratifiedKFold\n",
    "from sklearn.linear_model import LogisticRegression\n",
    "from sklearn.tree import DecisionTreeClassifier\n",
    "from sklearn.neighbors import KNeighborsClassifier\n",
    "from sklearn.discriminant_analysis import LinearDiscriminantAnalysis\n",
    "from sklearn.naive_bayes import GaussianNB\n",
    "from sklearn.metrics import classification_report\n",
    "from sklearn.metrics import confusion_matrix\n",
    "from sklearn.metrics import accuracy_score\n",
    "from sklearn.svm import SVC"
   ]
  },
  {
   "cell_type": "markdown",
   "id": "468dfa8c",
   "metadata": {},
   "source": [
    "In the next step, the code is generating a list of machine learning models that employ distinct algorithms and configurations. Each item in the list consists of a short name for the model, followed by an instance of that model containing specific parameters. These models can later be leveraged to improve and evaluate performance on machine learning-related tasks."
   ]
  },
  {
   "cell_type": "code",
   "execution_count": 22,
   "id": "d54ee814",
   "metadata": {},
   "outputs": [],
   "source": [
    "models = []\n",
    "models.append(('LR', LogisticRegression(solver='liblinear', multi_class='ovr')))\n",
    "models.append(('LDA', LinearDiscriminantAnalysis()))\n",
    "models.append(('KNN', KNeighborsClassifier()))\n",
    "models.append(('CART', DecisionTreeClassifier()))\n",
    "models.append(('NB', GaussianNB()))\n",
    "models.append(('SVM', SVC(gamma='auto')))"
   ]
  },
  {
   "cell_type": "markdown",
   "id": "1def3be6",
   "metadata": {},
   "source": [
    "By using the previously mentioned import and implementing the following codes, we obtain the printout of the mean and standard deviation, which represents the measure of variability.\n",
    "By observing the results obtained, we can select the model that most accurately adapts to the data we are analyzing.\n",
    "The numbers demonstrate that the highest averages were obtained by LDA, KNN and SVM, but their variability was lower.\n",
    "Logistic regression (LR) was the one that had the best standard deviation value (variability)."
   ]
  },
  {
   "cell_type": "code",
   "execution_count": 23,
   "id": "c184291e",
   "metadata": {},
   "outputs": [
    {
     "name": "stdout",
     "output_type": "stream",
     "text": [
      "LR: 0.875375 (0.035952)\n",
      "LDA: 0.981083 (0.002267)\n",
      "KNN: 0.985396 (0.001282)\n",
      "CART: 0.982917 (0.000955)\n",
      "NB: 0.959667 (0.004290)\n",
      "SVM: 0.983229 (0.000104)\n"
     ]
    }
   ],
   "source": [
    "results = []\n",
    "names = []\n",
    "for name, model in models:\n",
    "\tkfold = StratifiedKFold(n_splits=10, random_state=1, shuffle=True)\n",
    "\tcv_results = cross_val_score(model, X_train, Y_train, cv=kfold, scoring='accuracy')\n",
    "\tresults.append(cv_results)\n",
    "\tnames.append(name)\n",
    "\tprint('%s: %f (%f)' % (name, cv_results.mean(), cv_results.std()))"
   ]
  },
  {
   "cell_type": "markdown",
   "id": "c46d058d",
   "metadata": {},
   "source": [
    "From the results generated above, we can now create a graph to better visualize the distribution, median and performances of the different models previously applied. The graph can also show outliers.\n",
    "This makes it easier to choose the model that best fits the data.\n",
    "\n",
    "\n",
    "\n"
   ]
  },
  {
   "cell_type": "code",
   "execution_count": 24,
   "id": "61cd5de8",
   "metadata": {},
   "outputs": [
    {
     "data": {
      "image/png": "[encoded data removed]",
      "text/plain": [
       "<Figure size 640x480 with 1 Axes>"
      ]
     },
     "metadata": {},
     "output_type": "display_data"
    }
   ],
   "source": [
    "pyplot.boxplot(results, labels=names)\n",
    "pyplot.title('Algorithm Comparison')\n",
    "pyplot.show()"
   ]
  },
  {
   "cell_type": "code",
   "execution_count": 25,
   "id": "0e2aa5b0",
   "metadata": {},
   "outputs": [],
   "source": [
    "model = LogisticRegression(solver='liblinear', multi_class='ovr')\n",
    "model.fit(X_train, Y_train)\n",
    "predictions = model.predict(X_validation)"
   ]
  },
  {
   "cell_type": "code",
   "execution_count": 26,
   "id": "45148b8f",
   "metadata": {},
   "outputs": [
    {
     "name": "stdout",
     "output_type": "stream",
     "text": [
      "0.86275\n",
      "[[10171  1638]\n",
      " [    9   182]]\n"
     ]
    }
   ],
   "source": [
    "print(accuracy_score(Y_validation, predictions))\n",
    "print(confusion_matrix(Y_validation, predictions))"
   ]
  },
  {
   "cell_type": "markdown",
   "id": "44b8d0c3",
   "metadata": {},
   "source": [
    "The 86% accuracy value is quite satisfactory and indicates that we have highly reliable results, with a low risk of error. This provides more security when making decisions.\n",
    "\n",
    "When we consider the issue of precision, it is vital to adapt activities according to the needs and particularities of each organization and process.\n",
    "\n",
    "In this analysis, we discuss the Air Pressure System (APS) in trucks, which can result in failures in several truck functions. I believe that as the value of accuracy increases, the chances of errors decrease, which can even prevent serious accidents in certain cases.\n"
   ]
  },
  {
   "cell_type": "markdown",
   "id": "edfb2d6c",
   "metadata": {},
   "source": [
    "## Curse of Dimentionality\n",
    "\n",
    "The Curse of Dimensionality is a challenge in analyzing high-dimensional data, due to increased complexity, data scarcity, and difficulty in visualization. Dimensionality reduction and judicious choice of data preparation techniques are key to dealing with complex data sets and ensuring effective results in data analysis and machine learning.\n",
    "\n",
    "PCA can be used to benefit dimensionality reduction without substantially altering the data, which can be an effective strategy to reduce the challenges of the Curse of Dimensionality, enabling more efficient and effective analysis in high-dimensional spaces.\n",
    "\n"
   ]
  },
  {
   "cell_type": "markdown",
   "id": "4d5ff507",
   "metadata": {},
   "source": [
    "## REFERENCES\n",
    "\n",
    "\n",
    "Avelino (author), E.R. & E.F. (2019). Fundamentals of Machine Learning using Python. [online] Amazon. Arcler Press. Available at: https://www.amazon.co.uk/Fundamentals-Machine-Learning-using-Python/dp/177407365X [Accessed 31 Oct. 2023].\n",
    "\n",
    "Gilman, K., Hong, D., Fessler, J.A. and Balzano, L. (2023). Streaming Probabilistic PCA for Missing Data with Heteroscedastic Noise. [online] arXiv.org. doi:https://doi.org/10.48550/arXiv.2310.06277.\n",
    "\n",
    "Kleindessner, M., Donini, M., Russell, C. and Zafar, M.B. (2023). Efficient fair PCA for fair representation learning. [online] arXiv.org. doi:https://doi.org/10.48550/arXiv.2302.13319.\n",
    "\n",
    "\n",
    "Springer. (n.d.). Artificial Intelligence Review. [online] Available at: https://www.springer.com/journal/10462 [Accessed 31 Oct. 2023].\n",
    "\n"
   ]
  },
  {
   "cell_type": "code",
   "execution_count": null,
   "id": "48dce84c",
   "metadata": {},
   "outputs": [],
   "source": []
  }
 ],
 "metadata": {
  "kernelspec": {
   "display_name": "Python 3 (ipykernel)",
   "language": "python",
   "name": "python3"
  },
  "language_info": {
   "codemirror_mode": {
    "name": "ipython",
    "version": 3
   },
   "file_extension": ".py",
   "mimetype": "text/x-python",
   "name": "python",
   "nbconvert_exporter": "python",
   "pygments_lexer": "ipython3",
   "version": "3.11.4"
  }
 },
 "nbformat": 4,
 "nbformat_minor": 5
}
